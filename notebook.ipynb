{
 "cells": [
  {
   "cell_type": "markdown",
   "metadata": {},
   "source": [
    "## IMPORTS"
   ]
  },
  {
   "cell_type": "code",
   "execution_count": 960,
   "metadata": {},
   "outputs": [],
   "source": [
    "import pandas as pd\n",
    "import numpy as np\n",
    "import statsmodels.api as sm\n",
    "\n",
    "import matplotlib.pyplot as plt\n",
    "%matplotlib inline \n",
    "\n",
    "import seaborn as sns\n",
    "\n",
    "from sklearn.ensemble import RandomForestRegressor, ExtraTreesRegressor, GradientBoostingRegressor, AdaBoostRegressor\n",
    "from lightgbm import LGBMRegressor\n",
    "from xgboost import XGBRegressor\n",
    "from sklearn.linear_model import Ridge, Lasso, ElasticNet, SGDRegressor\n",
    "from sklearn.ensemble import IsolationForest\n",
    "\n",
    "from sklearn.impute import KNNImputer\n",
    "from sklearn.model_selection import StratifiedShuffleSplit, train_test_split\n",
    "\n",
    "from sklearn.metrics import root_mean_squared_error, mean_squared_error\n",
    "from sklearn.metrics import make_scorer\n",
    "from sklearn.preprocessing import MinMaxScaler\n",
    "from sklearn.feature_selection import RFE\n",
    "\n",
    "from sklearn.model_selection import  cross_val_score\n",
    "from sklearn.preprocessing import LabelEncoder\n",
    "import warnings"
   ]
  },
  {
   "cell_type": "markdown",
   "metadata": {},
   "source": [
    "## SETUP"
   ]
  },
  {
   "cell_type": "code",
   "execution_count": 961,
   "metadata": {},
   "outputs": [],
   "source": [
    "pd.options.display.float_format = '{:.4f}'.format\n",
    "warnings.filterwarnings('ignore')\n",
    "\n",
    "sns.set_theme(style='ticks')\n",
    "sns.set_palette(palette='deep6')\n",
    "\n",
    "PATH_TRAIN = 'datasets/train.csv'\n",
    "PATH_TEST = 'datasets/test.csv'"
   ]
  },
  {
   "cell_type": "markdown",
   "metadata": {},
   "source": [
    "## FUNÇÕES"
   ]
  },
  {
   "cell_type": "code",
   "execution_count": 962,
   "metadata": {},
   "outputs": [],
   "source": [
    "def obter_colunas_com_nulos(dataframe: pd.DataFrame) -> list:\n",
    "    return dataframe.columns[dataframe.isna().any()].tolist()"
   ]
  },
  {
   "cell_type": "code",
   "execution_count": 963,
   "metadata": {},
   "outputs": [],
   "source": [
    "def get_dataframe(path: str) -> pd.DataFrame:\n",
    "    dataframe = pd.read_csv(path)\n",
    "    return dataframe"
   ]
  },
  {
   "cell_type": "markdown",
   "metadata": {},
   "source": [
    "## EXPLORATORY DATA ANALISYS"
   ]
  },
  {
   "cell_type": "markdown",
   "metadata": {},
   "source": [
    "### General Info"
   ]
  },
  {
   "cell_type": "code",
   "execution_count": 964,
   "metadata": {},
   "outputs": [],
   "source": [
    "df1 = get_dataframe(path=PATH_TRAIN)"
   ]
  },
  {
   "cell_type": "code",
   "execution_count": 965,
   "metadata": {},
   "outputs": [
    {
     "data": {
      "text/plain": [
       "Index(['Id', 'MSSubClass', 'LotFrontage', 'LotArea', 'OverallQual',\n",
       "       'OverallCond', 'YearBuilt', 'YearRemodAdd', 'MasVnrArea', 'BsmtFinSF1',\n",
       "       'BsmtFinSF2', 'BsmtUnfSF', 'TotalBsmtSF', '1stFlrSF', '2ndFlrSF',\n",
       "       'LowQualFinSF', 'GrLivArea', 'BsmtFullBath', 'BsmtHalfBath', 'FullBath',\n",
       "       'HalfBath', 'BedroomAbvGr', 'KitchenAbvGr', 'TotRmsAbvGrd',\n",
       "       'Fireplaces', 'GarageYrBlt', 'GarageCars', 'GarageArea', 'WoodDeckSF',\n",
       "       'OpenPorchSF', 'EnclosedPorch', '3SsnPorch', 'ScreenPorch', 'PoolArea',\n",
       "       'MiscVal', 'MoSold', 'YrSold', 'SalePrice'],\n",
       "      dtype='object')"
      ]
     },
     "execution_count": 965,
     "metadata": {},
     "output_type": "execute_result"
    }
   ],
   "source": [
    "df1.select_dtypes(include=['number']).columns"
   ]
  },
  {
   "cell_type": "code",
   "execution_count": 966,
   "metadata": {},
   "outputs": [
    {
     "data": {
      "text/plain": [
       "Index(['MSZoning', 'Street', 'Alley', 'LotShape', 'LandContour', 'Utilities',\n",
       "       'LotConfig', 'LandSlope', 'Neighborhood', 'Condition1', 'Condition2',\n",
       "       'BldgType', 'HouseStyle', 'RoofStyle', 'RoofMatl', 'Exterior1st',\n",
       "       'Exterior2nd', 'MasVnrType', 'ExterQual', 'ExterCond', 'Foundation',\n",
       "       'BsmtQual', 'BsmtCond', 'BsmtExposure', 'BsmtFinType1', 'BsmtFinType2',\n",
       "       'Heating', 'HeatingQC', 'CentralAir', 'Electrical', 'KitchenQual',\n",
       "       'Functional', 'FireplaceQu', 'GarageType', 'GarageFinish', 'GarageQual',\n",
       "       'GarageCond', 'PavedDrive', 'PoolQC', 'Fence', 'MiscFeature',\n",
       "       'SaleType', 'SaleCondition'],\n",
       "      dtype='object')"
      ]
     },
     "execution_count": 966,
     "metadata": {},
     "output_type": "execute_result"
    }
   ],
   "source": [
    "df1.select_dtypes(include=['object']).columns"
   ]
  },
  {
   "cell_type": "code",
   "execution_count": 967,
   "metadata": {},
   "outputs": [
    {
     "data": {
      "text/plain": [
       "Index(['LotFrontage', 'Alley', 'MasVnrType', 'MasVnrArea', 'BsmtQual',\n",
       "       'BsmtCond', 'BsmtExposure', 'BsmtFinType1', 'BsmtFinType2',\n",
       "       'Electrical', 'FireplaceQu', 'GarageType', 'GarageYrBlt',\n",
       "       'GarageFinish', 'GarageQual', 'GarageCond', 'PoolQC', 'Fence',\n",
       "       'MiscFeature'],\n",
       "      dtype='object')"
      ]
     },
     "execution_count": 967,
     "metadata": {},
     "output_type": "execute_result"
    }
   ],
   "source": [
    "df1.columns[df1.isna().any()]"
   ]
  },
  {
   "cell_type": "code",
   "execution_count": 968,
   "metadata": {},
   "outputs": [
    {
     "data": {
      "text/plain": [
       "LotFrontage    17.7400\n",
       "Alley          93.7700\n",
       "MasVnrType     59.7300\n",
       "MasVnrArea      0.5500\n",
       "BsmtQual        2.5300\n",
       "BsmtCond        2.5300\n",
       "BsmtExposure    2.6000\n",
       "BsmtFinType1    2.5300\n",
       "BsmtFinType2    2.6000\n",
       "Electrical      0.0700\n",
       "FireplaceQu    47.2600\n",
       "GarageType      5.5500\n",
       "GarageYrBlt     5.5500\n",
       "GarageFinish    5.5500\n",
       "GarageQual      5.5500\n",
       "GarageCond      5.5500\n",
       "PoolQC         99.5200\n",
       "Fence          80.7500\n",
       "MiscFeature    96.3000\n",
       "dtype: float64"
      ]
     },
     "execution_count": 968,
     "metadata": {},
     "output_type": "execute_result"
    }
   ],
   "source": [
    "cols = df1.columns[df1.isna().any()]\n",
    "((df1[cols].isna().sum() /  df1.shape[0]) * 100).round(2)"
   ]
  },
  {
   "cell_type": "code",
   "execution_count": 969,
   "metadata": {},
   "outputs": [
    {
     "data": {
      "text/plain": [
       "LotFrontage      259\n",
       "Alley           1369\n",
       "MasVnrType       872\n",
       "MasVnrArea         8\n",
       "BsmtQual          37\n",
       "BsmtCond          37\n",
       "BsmtExposure      38\n",
       "BsmtFinType1      37\n",
       "BsmtFinType2      38\n",
       "Electrical         1\n",
       "FireplaceQu      690\n",
       "GarageType        81\n",
       "GarageYrBlt       81\n",
       "GarageFinish      81\n",
       "GarageQual        81\n",
       "GarageCond        81\n",
       "PoolQC          1453\n",
       "Fence           1179\n",
       "MiscFeature     1406\n",
       "dtype: int64"
      ]
     },
     "execution_count": 969,
     "metadata": {},
     "output_type": "execute_result"
    }
   ],
   "source": [
    "cols = df1.columns[df1.isna().any()]\n",
    "df1[cols].isna().sum()"
   ]
  },
  {
   "cell_type": "code",
   "execution_count": 970,
   "metadata": {},
   "outputs": [
    {
     "data": {
      "text/plain": [
       "KitchenAbvGr\n",
       "1    1392\n",
       "2      65\n",
       "3       2\n",
       "0       1\n",
       "Name: count, dtype: int64"
      ]
     },
     "execution_count": 970,
     "metadata": {},
     "output_type": "execute_result"
    }
   ],
   "source": [
    "df1['KitchenAbvGr'].value_counts()"
   ]
  },
  {
   "cell_type": "code",
   "execution_count": 971,
   "metadata": {},
   "outputs": [
    {
     "data": {
      "text/html": [
       "<div>\n",
       "<style scoped>\n",
       "    .dataframe tbody tr th:only-of-type {\n",
       "        vertical-align: middle;\n",
       "    }\n",
       "\n",
       "    .dataframe tbody tr th {\n",
       "        vertical-align: top;\n",
       "    }\n",
       "\n",
       "    .dataframe thead th {\n",
       "        text-align: right;\n",
       "    }\n",
       "</style>\n",
       "<table border=\"1\" class=\"dataframe\">\n",
       "  <thead>\n",
       "    <tr style=\"text-align: right;\">\n",
       "      <th></th>\n",
       "      <th>KitchenAbvGr</th>\n",
       "      <th>KitchenQual</th>\n",
       "    </tr>\n",
       "  </thead>\n",
       "  <tbody>\n",
       "    <tr>\n",
       "      <th>954</th>\n",
       "      <td>0</td>\n",
       "      <td>TA</td>\n",
       "    </tr>\n",
       "  </tbody>\n",
       "</table>\n",
       "</div>"
      ],
      "text/plain": [
       "     KitchenAbvGr KitchenQual\n",
       "954             0          TA"
      ]
     },
     "execution_count": 971,
     "metadata": {},
     "output_type": "execute_result"
    }
   ],
   "source": [
    "index = df1[df1['KitchenAbvGr'] == 0].index\n",
    "df1[['KitchenAbvGr', 'KitchenQual']].iloc[index, :] "
   ]
  },
  {
   "cell_type": "code",
   "execution_count": 972,
   "metadata": {},
   "outputs": [
    {
     "data": {
      "text/html": [
       "<div>\n",
       "<style scoped>\n",
       "    .dataframe tbody tr th:only-of-type {\n",
       "        vertical-align: middle;\n",
       "    }\n",
       "\n",
       "    .dataframe tbody tr th {\n",
       "        vertical-align: top;\n",
       "    }\n",
       "\n",
       "    .dataframe thead th {\n",
       "        text-align: right;\n",
       "    }\n",
       "</style>\n",
       "<table border=\"1\" class=\"dataframe\">\n",
       "  <thead>\n",
       "    <tr style=\"text-align: right;\">\n",
       "      <th></th>\n",
       "      <th>KitchenAbvGr</th>\n",
       "      <th>KitchenQual</th>\n",
       "    </tr>\n",
       "  </thead>\n",
       "  <tbody>\n",
       "    <tr>\n",
       "      <th>48</th>\n",
       "      <td>3</td>\n",
       "      <td>TA</td>\n",
       "    </tr>\n",
       "    <tr>\n",
       "      <th>809</th>\n",
       "      <td>3</td>\n",
       "      <td>TA</td>\n",
       "    </tr>\n",
       "  </tbody>\n",
       "</table>\n",
       "</div>"
      ],
      "text/plain": [
       "     KitchenAbvGr KitchenQual\n",
       "48              3          TA\n",
       "809             3          TA"
      ]
     },
     "execution_count": 972,
     "metadata": {},
     "output_type": "execute_result"
    }
   ],
   "source": [
    "index = df1[df1['KitchenAbvGr'] == 3].index\n",
    "df1[['KitchenAbvGr', 'KitchenQual']].iloc[index, :] "
   ]
  },
  {
   "cell_type": "code",
   "execution_count": 973,
   "metadata": {},
   "outputs": [
    {
     "data": {
      "text/plain": [
       "17      0\n",
       "39      0\n",
       "42      0\n",
       "52      0\n",
       "54      0\n",
       "       ..\n",
       "1412    0\n",
       "1431    0\n",
       "1445    0\n",
       "1452    0\n",
       "1458    0\n",
       "Name: BsmtUnfSF, Length: 118, dtype: int64"
      ]
     },
     "execution_count": 973,
     "metadata": {},
     "output_type": "execute_result"
    }
   ],
   "source": [
    "df1[df1['BsmtUnfSF']==0]['BsmtUnfSF']"
   ]
  },
  {
   "cell_type": "code",
   "execution_count": 974,
   "metadata": {},
   "outputs": [],
   "source": [
    "def plot_bloxplots(dataset: pd.DataFrame, columns: list = [], target: str = 'SalePrice'):\n",
    "    \n",
    "    cols = columns if columns else dataset.select_dtypes(include=['number']).columns\n",
    "    \n",
    "    for column in cols:\n",
    "        if column != target:\n",
    "            plt.figure(figsize=(10, 6))  \n",
    "            sns.boxplot(data=dataset, x=column, y=target)\n",
    "            sns.despine(offset=10, trim=True)\n",
    "            plt.title(f'Boxplot of {column} vs {target}')  \n",
    "            plt.show()  "
   ]
  },
  {
   "cell_type": "code",
   "execution_count": 975,
   "metadata": {},
   "outputs": [],
   "source": [
    "def plot_scatterplot(dataset: pd.DataFrame, columns: list = [], target: str = 'SalePrice'):\n",
    "        \n",
    "    cols = columns if columns else dataset.select_dtypes(include=['number']).columns\n",
    "    \n",
    "    for column in cols:\n",
    "        if column != target:\n",
    "            plt.figure(figsize=(10, 6))  \n",
    "            sns.relplot(data=dataset, x=column, y=target)\n",
    "            sns.despine(offset=10, trim=True)\n",
    "            plt.title(f'Scatterplot of {column} vs {target}')  \n",
    "            plt.show()  "
   ]
  },
  {
   "cell_type": "code",
   "execution_count": 976,
   "metadata": {},
   "outputs": [],
   "source": [
    "def obter_stats(dataset: pd.DataFrame, columns: list, target: str = 'SalePrice'):\n",
    "\n",
    "    X = dataset[columns]\n",
    "    y = dataset[target]\n",
    "    X = sm.add_constant(X)  \n",
    "\n",
    "    model = sm.OLS(y, X).fit()\n",
    "\n",
    "    print(model.summary())"
   ]
  },
  {
   "cell_type": "markdown",
   "metadata": {},
   "source": [
    "## Data Processing"
   ]
  },
  {
   "cell_type": "markdown",
   "metadata": {},
   "source": [
    "### Data Clean"
   ]
  },
  {
   "cell_type": "code",
   "execution_count": 977,
   "metadata": {},
   "outputs": [],
   "source": [
    "def display_null_values(dataframe: pd.DataFrame, columns: list) -> pd.DataFrame:\n",
    "    for column in columns:\n",
    "        print(f'Fill {column}: *** { int(dataframe[column].isna().sum()) } *** values for replacement')\n",
    "    "
   ]
  },
  {
   "cell_type": "code",
   "execution_count": 978,
   "metadata": {},
   "outputs": [],
   "source": [
    "def fill_garage_attributes(dataframe=pd.DataFrame) -> pd.DataFrame:\n",
    "    dataframe['GarageType'].fillna('NA', inplace=True)\n",
    "    dataframe['GarageYrBlt'].fillna(0, inplace=True)\n",
    "    dataframe['GarageFinish'].fillna('NA', inplace=True)\n",
    "    dataframe['GarageQual'].fillna('NA', inplace=True)\n",
    "    dataframe['GarageCond'].fillna('NA', inplace=True)\n",
    "    display_null_values(dataframe=dataframe, columns=['GarageType', 'GarageYrBlt', 'GarageFinish', 'GarageQual', 'GarageCond'])\n",
    "    return dataframe"
   ]
  },
  {
   "cell_type": "code",
   "execution_count": 979,
   "metadata": {},
   "outputs": [],
   "source": [
    "def fill_basement_attributes(dataframe: pd.DataFrame) -> pd.DataFrame:\n",
    "    \n",
    "    condition1 = (dataframe['TotalBsmtSF'] == 0) & (dataframe['BsmtFinSF1'] == 0) & (dataframe['BsmtFinSF2'] == 0) & (dataframe['BsmtUnfSF'] == 0)\n",
    "    condition2 = dataframe['TotalBsmtSF'] == 0\n",
    "\n",
    "    dataframe['BsmtQual'] = dataframe['BsmtQual'].mask(condition1, 'NA')\n",
    "    dataframe['BsmtCond'] = dataframe['BsmtCond'].mask(condition1, 'NA')\n",
    "    \n",
    "    dataframe['BsmtExposure'] = dataframe['BsmtExposure'].mask(condition2, 'NA')\n",
    "    dataframe['BsmtFinType1'] = dataframe['BsmtFinType1'].mask(condition2, 'NA')\n",
    "    dataframe['BsmtFinType2'] = dataframe['BsmtFinType2'].mask(condition2, 'NA')\n",
    "\n",
    "    # Identificar as colunas categóricas e numéricas\n",
    "    categorical_columns = ['BsmtQual', 'BsmtCond', 'BsmtExposure', 'BsmtFinType1', 'BsmtFinType2']\n",
    "       \n",
    "    display_null_values(dataframe=dataframe, columns=categorical_columns)\n",
    "\n",
    "    return dataframe"
   ]
  },
  {
   "cell_type": "code",
   "execution_count": 980,
   "metadata": {},
   "outputs": [],
   "source": [
    "def fill_masonry_veneer(dataframe: pd.DataFrame) -> pd.DataFrame:\n",
    "    # Inicializar o codificador e o imputador\n",
    "    le = LabelEncoder()\n",
    "    imputer = KNNImputer()\n",
    "    \n",
    "    # Definir a condição para preencher MasVnrType com 'None'\n",
    "    condition1 = dataframe['MasVnrArea'] == 0\n",
    "    dataframe['MasVnrType'] = dataframe['MasVnrType'].mask(condition1, 'None') \n",
    "    \n",
    "    # Codificar o atributo categórico MasVnrType\n",
    "    dataframe['MasVnrType'] = dataframe['MasVnrType'].fillna('None')  # Preencher valores nulos com 'None' antes da codificação\n",
    "    dataframe['MasVnrType_encoded'] = le.fit_transform(dataframe['MasVnrType'].astype(str))\n",
    "    \n",
    "    # Imputar valores para MasVnrArea e MasVnrType_encoded\n",
    "    imputer = KNNImputer()\n",
    "    imputed_values = imputer.fit_transform(dataframe[['MasVnrArea', 'MasVnrType_encoded']])\n",
    "    \n",
    "    # Atualizar o DataFrame com os valores imputados\n",
    "    dataframe['MasVnrArea'] = imputed_values[:, 0]\n",
    "    dataframe['MasVnrType_encoded'] = imputed_values[:, 1]\n",
    "    \n",
    "    # Reverter a codificação de MasVnrType\n",
    "    dataframe['MasVnrType'] = le.inverse_transform(dataframe['MasVnrType_encoded'].astype(int))\n",
    "    \n",
    "    # Remover coluna auxiliar\n",
    "    dataframe = dataframe.drop(columns=['MasVnrType_encoded'])\n",
    "    \n",
    "    display_null_values(dataframe=dataframe, columns=['MasVnrType'])\n",
    "\n",
    "    return dataframe"
   ]
  },
  {
   "cell_type": "code",
   "execution_count": 981,
   "metadata": {},
   "outputs": [],
   "source": [
    "def fill_fireplaces_attributes(dataframe: pd.DataFrame) -> pd.DataFrame:\n",
    "    codition = dataframe['Fireplaces'] == 0\n",
    "    dataframe['FireplaceQu'] = dataframe['FireplaceQu'].mask(codition, 'NA')\n",
    "    print(\"Fill basement attributes: FireplaceQu\")\n",
    "    display_null_values(dataframe=dataframe, columns=['FireplaceQu'])\n",
    "    return dataframe"
   ]
  },
  {
   "cell_type": "code",
   "execution_count": 982,
   "metadata": {},
   "outputs": [],
   "source": [
    "def fill_pool_qc_attributes(dataframe: pd.DataFrame) -> pd.DataFrame:\n",
    "    codition = dataframe['PoolArea'] == 0\n",
    "    dataframe['PoolQC'] = dataframe['PoolQC'].mask(codition, 'NA')\n",
    "    display_null_values(dataframe=dataframe, columns=['PoolQC'])\n",
    "    return dataframe"
   ]
  },
  {
   "cell_type": "code",
   "execution_count": 983,
   "metadata": {},
   "outputs": [],
   "source": [
    "def fill_alley_attributes(dataframe: pd.DataFrame) -> pd.DataFrame:\n",
    "    # Step 1: Mask Alley values based on condition\n",
    "    \n",
    "    condition = (dataframe['Alley'].isna()) & ((dataframe['BsmtFinSF2'] == 0) | (dataframe['2ndFlrSF'] == 0) | (dataframe['1stFlrSF'] == 0))\n",
    "    dataframe['Alley'] = dataframe['Alley'].mask(condition, 'NA')\n",
    "    \n",
    "    # Step 2: Encode the categorical Alley column to numeric values\n",
    "    le = LabelEncoder()\n",
    "    dataframe['Alley'] = le.fit_transform(dataframe['Alley'].astype(str))\n",
    "    \n",
    "    # Step 3: Apply KNN imputer\n",
    "    knn_imputer = KNNImputer()\n",
    "    dataframe[['Alley']] = knn_imputer.fit_transform(dataframe[['Alley']])\n",
    "    \n",
    "    # Step 4: Convert the numeric values back to the original categories\n",
    "    dataframe['Alley'] = le.inverse_transform(dataframe['Alley'].astype(int))\n",
    "\n",
    "    display_null_values(dataframe=dataframe, columns=['Alley'])\n",
    "    return dataframe"
   ]
  },
  {
   "cell_type": "code",
   "execution_count": 984,
   "metadata": {},
   "outputs": [],
   "source": [
    "def drop_columns_with_missing_rate_gt(dataframe: pd.DataFrame, missing_values_rate_param: float = 0.3) -> pd.DataFrame:\n",
    "    \n",
    "    removed_cols = ['Exterior1st', 'Fence']\n",
    "\n",
    "    # for column in dataframe.columns[dataframe.isna().any()]:\n",
    "    #     missing_values_rate = ((dataframe[column].isna().sum() / dataframe.shape[0]))\n",
    "    #     if missing_values_rate > missing_values_rate_param:\n",
    "    #         removed_cols.append(column)\n",
    "\n",
    "    dataframe.drop(columns=removed_cols, inplace=True)\n",
    "    \n",
    "    print(f\"the columns {removed_cols} was removed.\")\n",
    "\n",
    "    return dataframe"
   ]
  },
  {
   "cell_type": "code",
   "execution_count": 985,
   "metadata": {},
   "outputs": [],
   "source": [
    "def fill_columns_with_median_or_mode(dataframe: pd.DataFrame, missing_values_rate_param: float = 0.1) -> pd.DataFrame:\n",
    "    \n",
    "    median_cols = []\n",
    "    mode_cols = []\n",
    "\n",
    "    for column in dataframe.columns[dataframe.isna().any()]:\n",
    "        missing_values_rate = ((dataframe[column].isna().sum() / dataframe.shape[0]))\n",
    "        if missing_values_rate <= missing_values_rate_param:\n",
    "            if pd.api.types.is_numeric_dtype(dataframe[column]):\n",
    "                median_cols.append(column)\n",
    "                median = dataframe[column].median()\n",
    "                dataframe[column].fillna(median, inplace=True)\n",
    "            else:\n",
    "                mode_cols.append(column)\n",
    "                mode = dataframe[column].mode()[0]\n",
    "                dataframe[column].fillna(mode, inplace=True)\n",
    "    \n",
    "    # print(\"Columns filled with the median values: \", median_cols)\n",
    "    # print(\"Columns filled with the mode values: \", mode_cols)\n",
    "    \n",
    "    if median_cols or mode_cols:\n",
    "        print(\"fill_columns_with_median_or_mode ....\")\n",
    "        display_null_values(dataframe=dataframe, columns=median_cols)\n",
    "        display_null_values(dataframe=dataframe, columns=mode_cols)\n",
    "\n",
    "    return dataframe"
   ]
  },
  {
   "cell_type": "code",
   "execution_count": 986,
   "metadata": {},
   "outputs": [],
   "source": [
    "def fill_columns_with_knn(dataframe: pd.DataFrame, missing_values_rate_param: float = 0.1) -> pd.DataFrame:\n",
    "    \n",
    "    imputer = KNNImputer()\n",
    "    knn_columns = []\n",
    "    df_imputed = dataframe.copy()\n",
    "    numeric_columns_with_missing = [col for col in dataframe.columns if pd.api.types.is_numeric_dtype(dataframe[col]) and dataframe[col].isna().any()]\n",
    "    \n",
    "    for column in numeric_columns_with_missing:\n",
    "        missing_values_rate = dataframe[column].isna().sum() / dataframe.shape[0]\n",
    "        \n",
    "        if missing_values_rate > missing_values_rate_param and missing_values_rate <= 0.3:\n",
    "            knn_columns.append(column)\n",
    "    \n",
    "    if knn_columns:\n",
    "        imputed_values = imputer.fit_transform(dataframe[knn_columns])\n",
    "        df_imputed[knn_columns] = imputed_values\n",
    "    \n",
    "    display_null_values(dataframe=dataframe, columns=knn_columns)\n",
    "    \n",
    "    return df_imputed\n"
   ]
  },
  {
   "cell_type": "code",
   "execution_count": 987,
   "metadata": {},
   "outputs": [],
   "source": [
    "def fill_columns_with_unknown(dataframe: pd.DataFrame, columns: list) -> pd.DataFrame:\n",
    "    for column in columns:\n",
    "        dataframe[columns].fillna('unknown', inplace=True)\n",
    "    \n",
    "    # print(\"Columns filled with with unknown: \", columns)\n",
    "\n",
    "    return dataframe"
   ]
  },
  {
   "cell_type": "code",
   "execution_count": 988,
   "metadata": {},
   "outputs": [],
   "source": [
    "def fill_lot_frontage(dataframe: pd.DataFrame) -> pd.DataFrame:\n",
    "    # Seleciona apenas a coluna 'LotFrontage' e transforma em DataFrame\n",
    "    lot_frontage = dataframe[['LotFrontage']]\n",
    "    \n",
    "    # Cria e ajusta o KNNImputer\n",
    "    imputer = KNNImputer(n_neighbors=5)  # Você pode ajustar o número de vizinhos aqui\n",
    "    dataframe['LotFrontage'] = imputer.fit_transform(lot_frontage)\n",
    "    \n",
    "    # Opcional: Mostrar valores nulos restantes na coluna 'LotFrontage'\n",
    "    display_null_values(dataframe=dataframe, columns=['LotFrontage'])\n",
    "\n",
    "    return dataframe\n"
   ]
  },
  {
   "cell_type": "code",
   "execution_count": 989,
   "metadata": {},
   "outputs": [],
   "source": [
    "def fill_bsmt_exposure(dataframe: pd.DataFrame) -> pd.DataFrame:\n",
    "    bsmt_exposure = dataframe[['BsmtExposure']]\n",
    "    imputer = KNNImputer(n_neighbors=5)  \n",
    "    dataframe['BsmtExposure'] = imputer.fit_transform(bsmt_exposure)    \n",
    "    display_null_values(dataframe=dataframe, columns=['BsmtExposure'])\n",
    "    return dataframe"
   ]
  },
  {
   "cell_type": "code",
   "execution_count": 990,
   "metadata": {},
   "outputs": [],
   "source": [
    "def fill_bsmt_fin_type2(dataframe: pd.DataFrame) -> pd.DataFrame:\n",
    "    bsmt_exposure = dataframe[['BsmtFinType2']]\n",
    "    imputer = KNNImputer(n_neighbors=5)  \n",
    "    dataframe['BsmtFinType2'] = imputer.fit_transform(bsmt_exposure)    \n",
    "    display_null_values(dataframe=dataframe, columns=['BsmtFinType2'])\n",
    "    return dataframe"
   ]
  },
  {
   "cell_type": "code",
   "execution_count": 991,
   "metadata": {},
   "outputs": [],
   "source": [
    "def fill_residual_fields(dataframe: pd.DataFrame) -> pd.DataFrame:\n",
    "    \n",
    "    imputer = KNNImputer(n_neighbors=5)  \n",
    "    dataframe['Alley'] = imputer.fit_transform(dataframe[['Alley']])   \n",
    "    print(\"Fill residual null fields: ['Alley']\")\n",
    "    return dataframe"
   ]
  },
  {
   "cell_type": "code",
   "execution_count": 992,
   "metadata": {},
   "outputs": [],
   "source": [
    "def remove_outliers_based_on_basement(dataframe: pd.DataFrame, bsmtfin1_col='BsmtFinSF1', bsmtfin2_col='BsmtFinSF2', bsmtunf_col='BsmtUnfSF', total_bsmt_col='TotalBsmtSF', threshold=0.1):\n",
    "    \"\"\"\n",
    "    Remove outliers baseados na diferença entre TotalBsmtSF e a soma de BsmtFinSF1, BsmtFinSF2 e BsmtUnfSF.\n",
    "\n",
    "    Parâmetros:\n",
    "    - dataframe: DataFrame contendo os dados.\n",
    "    - bsmtfin1_col: Nome da coluna para BsmtFinSF1.\n",
    "    - bsmtfin2_col: Nome da coluna para BsmtFinSF2.\n",
    "    - bsmtunf_col: Nome da coluna para BsmtUnfSF.\n",
    "    - total_bsmt_col: Nome da coluna para TotalBsmtSF.\n",
    "    - threshold: Limite de tolerância para a diferença relativa (porcentagem).\n",
    "\n",
    "    Retorno:\n",
    "    - DataFrame sem os outliers.\n",
    "    \"\"\"\n",
    "    # Calcula a diferença relativa\n",
    "    dataframe['Difference'] = abs(dataframe[total_bsmt_col] - (dataframe[bsmtfin1_col] + dataframe[bsmtfin2_col] + dataframe[bsmtunf_col])) / dataframe[total_bsmt_col]\n",
    "    \n",
    "    # Filtra os outliers\n",
    "    dataframe = dataframe[dataframe['Difference'] <= threshold]\n",
    "\n",
    "    # Remove a coluna temporária 'Difference'\n",
    "    dataframe = dataframe.drop(columns=['Difference'])\n",
    "    \n",
    "    return dataframe"
   ]
  },
  {
   "cell_type": "code",
   "execution_count": 993,
   "metadata": {},
   "outputs": [],
   "source": [
    "def remove_outliers_based_on_gr_live_area(dataframe: pd.DataFrame, first_floor='1stFlrSF', second_floor='2ndFlrSF', total_area='GrLivArea', threshold=0.1):\n",
    "    \"\"\"\n",
    "    Remove outliers baseados na diferença entre TotalBsmtSF e a soma de BsmtFinSF1, BsmtFinSF2 e BsmtUnfSF.\n",
    "\n",
    "    Parâmetros:\n",
    "    - dataframe: DataFrame contendo os dados.\n",
    "    - first_floor: Nome da coluna para 1stFlrSF.\n",
    "    - bsmtfin2_col: Nome da coluna para 2ndFlrSF.\n",
    "    - total_area: Nome da coluna para GrLivArea.\n",
    "    - threshold: Limite de tolerância para a diferença relativa (porcentagem).\n",
    "\n",
    "    Retorno:\n",
    "    - DataFrame sem os outliers.\n",
    "    \"\"\"\n",
    "    # Calcula a diferença relativa\n",
    "    dataframe['Difference'] = abs(dataframe['GrLivArea'] - (dataframe[first_floor] + dataframe[second_floor])) / dataframe[total_area]\n",
    "    \n",
    "    # Filtra os outliers\n",
    "    dataframe = dataframe[dataframe['Difference'] <= threshold]\n",
    "\n",
    "    # Remove a coluna temporária 'Difference'\n",
    "    dataframe = dataframe.drop(columns=['Difference'])\n",
    "    \n",
    "    return dataframe"
   ]
  },
  {
   "cell_type": "code",
   "execution_count": 994,
   "metadata": {},
   "outputs": [],
   "source": [
    "def perform_fill_data(dataframe: pd.DataFrame):\n",
    "    print(\"\\n ********************** Starting FILL fields **********************\\n\")\n",
    "    dataframe = drop_columns_with_missing_rate_gt(dataframe=dataframe)\n",
    "    dataframe = fill_lot_frontage(dataframe=dataframe)\n",
    "    dataframe = fill_garage_attributes(dataframe=dataframe)\n",
    "    dataframe = fill_basement_attributes(dataframe=dataframe)\n",
    "    dataframe = fill_masonry_veneer(dataframe=dataframe)\n",
    "    dataframe = fill_fireplaces_attributes(dataframe=dataframe)\n",
    "    dataframe = fill_pool_qc_attributes(dataframe=dataframe)\n",
    "    dataframe = fill_alley_attributes(dataframe=dataframe)    \n",
    "    dataframe = fill_columns_with_median_or_mode(dataframe=dataframe)\n",
    "    dataframe = fill_columns_with_knn(dataframe=dataframe)\n",
    "    # dataframe = fill_bsmt_fin_type2(dataframe=dataframe)\n",
    "    # dataframe = fill_bsmt_exposure(dataframe=dataframe)\n",
    "    # dataframe = fill_columns_with_unknown(dataframe=dataframe)\n",
    "    print(\"\\n ********************** Finish FILL fields **********************\\n\")\n",
    "    return dataframe"
   ]
  },
  {
   "cell_type": "code",
   "execution_count": 995,
   "metadata": {},
   "outputs": [],
   "source": [
    "def perform_remove_outliers(dataframe: pd.DataFrame, threshold=0.05) -> pd.DataFrame:\n",
    "    dataframe = remove_outliers_based_on_basement(dataframe=dataframe, threshold=threshold)\n",
    "    dataframe = remove_outliers_based_on_gr_live_area(dataframe=dataframe, threshold=threshold)\n",
    "    print(\"Outliers was removed!\")\n",
    "    return dataframe"
   ]
  },
  {
   "cell_type": "markdown",
   "metadata": {},
   "source": [
    "### Feature Engineering"
   ]
  },
  {
   "cell_type": "code",
   "execution_count": 996,
   "metadata": {},
   "outputs": [],
   "source": [
    "def add_misc_feature(dataframe: pd.DataFrame) -> pd.DataFrame:\n",
    "    dataframe['has_elevator'] = dataframe['MiscFeature'].apply(lambda x: 1 if x == 'Elev' else 0)\n",
    "    dataframe['has_gar2'] = dataframe['MiscFeature'].apply(lambda x: 1 if x == 'Gar2' else 0)\n",
    "    dataframe['has_shed'] = dataframe['MiscFeature'].apply(lambda x: 1 if x == 'Shed' else 0)\n",
    "    dataframe['has_tenc'] = dataframe['MiscFeature'].apply(lambda x: 1 if x == 'TenC' else 0)\n",
    "\n",
    "    print('Adding features [\"has_elevator\", \"has_gar2\", \"has_shed\", \"has_tenc\"]')\n",
    "\n",
    "    return dataframe"
   ]
  },
  {
   "cell_type": "markdown",
   "metadata": {},
   "source": [
    "#### Ages"
   ]
  },
  {
   "cell_type": "code",
   "execution_count": 997,
   "metadata": {},
   "outputs": [],
   "source": [
    "def add_remod_age(dataframe: pd.DataFrame) -> pd.DataFrame:\n",
    "    dataframe['remode_age'] = dataframe[['YearBuilt', 'YearRemodAdd', 'YrSold', 'MoSold']].apply(lambda x: (x[2] - x[1] + x[3]/12) if x[0] != x[1] else (x[2] - x[1]) + x[3]/12, axis=1)\n",
    "    print('Adding feature remode_age')\n",
    "    return dataframe"
   ]
  },
  {
   "cell_type": "code",
   "execution_count": 998,
   "metadata": {},
   "outputs": [],
   "source": [
    "def add_house_age(dataframe: pd.DataFrame) -> pd.DataFrame:\n",
    "    mean = (dataframe['YrSold'] + dataframe['YearBuilt']) / 2\n",
    "    dataframe['house_age'] = dataframe[['YearBuilt', 'YrSold', 'MoSold']].apply(lambda x: (x[1] - x[0] + x[2]/12) if x[0] and x[1] else mean, axis=1)\n",
    "    print('Adding feature house_age')\n",
    "    return dataframe"
   ]
  },
  {
   "cell_type": "code",
   "execution_count": 999,
   "metadata": {},
   "outputs": [],
   "source": [
    "def add_ages(dataframe: pd.DataFrame) -> pd.DataFrame:\n",
    "    dataframe = add_remod_age(dataframe=dataframe)\n",
    "    dataframe = add_house_age(dataframe=dataframe)\n",
    "    dataframe['age_or_remode'] = dataframe[['remode_age', 'house_age']].apply(lambda x: x.min(), axis=1)\n",
    "    print('Adding age_or_remode')\n",
    "    return dataframe"
   ]
  },
  {
   "cell_type": "code",
   "execution_count": null,
   "metadata": {},
   "outputs": [],
   "source": []
  },
  {
   "cell_type": "markdown",
   "metadata": {},
   "source": [
    "#### Quality"
   ]
  },
  {
   "cell_type": "markdown",
   "metadata": {},
   "source": [
    "['OverallQual', 'OverallCond', 'ExterQual', 'ExterCond', 'BsmtQual', 'BsmtCond', 'BsmtFinType1', \n",
    "    'BsmtFinType2', 'LowQualFinSF', 'KitchenQual', 'FireplaceQu', 'PoolQC', 'Fence', 'GarageQual', 'GarageCond', 'HeatingQC']"
   ]
  },
  {
   "cell_type": "code",
   "execution_count": 1000,
   "metadata": {},
   "outputs": [],
   "source": [
    "def add_quality_attributes(dataframe: pd.DataFrame) -> pd.DataFrame:\n",
    "    dataframe['index_external_qual'] = (dataframe['ExterQual'] + dataframe['ExterCond'])\n",
    "    dataframe['index_internal_qual'] = (dataframe['OverallQual'] + dataframe['OverallCond'])\n",
    "    # dataframe['index_gr_liv_area'] = (dataframe['GrLivArea'] * dataframe['ExterQual'] * dataframe['OverallQual']) + dataframe['BsmtQual'] * dataframe['BsmtCond'] + dataframe['GarageQual'] * dataframe['GarageCond']\n",
    "\n",
    "    # dataframe['index_garage_qual'] = dataframe['age_or_remode'] / (dataframe['GarageQual'] * dataframe['GarageCond'])     \n",
    "\n",
    "    \n",
    "    print('Adding features [\"index_external_qual\", \"index_internal_qual\", \"index_bsmt_qual\", \"index_garage_qual\", \"index_gr_liv_area\"]')\n",
    "    \n",
    "    return dataframe"
   ]
  },
  {
   "cell_type": "markdown",
   "metadata": {},
   "source": [
    "#### Area"
   ]
  },
  {
   "cell_type": "code",
   "execution_count": 1001,
   "metadata": {},
   "outputs": [],
   "source": [
    "def add_flors_attributes(dataframe: pd.DataFrame) -> pd.DataFrame:\n",
    "    # Adicionando colunas indicadoras para os andares\n",
    "    dataframe['has_1st_floor'] = dataframe['1stFlrSF'].apply(lambda x: 1 if x > 0 else 0)\n",
    "    dataframe['has_2nd_floor'] = dataframe['2ndFlrSF'].apply(lambda x: 1 if x > 0 else 0)\n",
    "    dataframe['has_bsmt'] = dataframe[['BsmtFinSF1', 'BsmtFinSF2']].apply(lambda x: 1 if x[0] > 0 or x[1] > 0 else 0, axis=1)\n",
    "    \n",
    "    # Total de andares (primeiro, segundo e porão)\n",
    "    dataframe['total_floor'] = dataframe['has_1st_floor'] + dataframe['has_2nd_floor'] + dataframe['has_bsmt']\n",
    "    \n",
    "    dataframe['finished_per_unfinished_bsmt'] = np.where(\n",
    "        (dataframe['TotalBsmtSF'] > 0) & (dataframe['BsmtUnfSF'] == 0), \n",
    "        1,  # Caso 1: BsmtUnfSF é zero e TotalBsmtSF > 0\n",
    "            np.where(\n",
    "                (dataframe['BsmtUnfSF'] > 0) & (dataframe['TotalBsmtSF'] > 0),\n",
    "                dataframe['BsmtUnfSF'] / dataframe['TotalBsmtSF'], \n",
    "                0  # Caso 2: TotalBsmtSF é zero\n",
    "            )\n",
    "        )\n",
    "\n",
    "    print('Adding features [\"has_1st_floor\", \"has_2nd_floor\", \"has_bsmt\", \"total_floor\", \"finished_per_unfinished_bsmt\"]')\n",
    "    \n",
    "    return dataframe\n"
   ]
  },
  {
   "cell_type": "code",
   "execution_count": 1002,
   "metadata": {},
   "outputs": [],
   "source": [
    "def add_house_per_lot_area(dataframe: pd.DataFrame) -> pd.DataFrame:\n",
    "    dataframe['house_per_lot_area'] = (dataframe['GrLivArea'] + dataframe['TotalBsmtSF']) / dataframe['LotArea']\n",
    "    print('Adding feature house_per_lot_area')\n",
    "    return dataframe"
   ]
  },
  {
   "cell_type": "markdown",
   "metadata": {},
   "source": [
    "#### Rooms"
   ]
  },
  {
   "cell_type": "code",
   "execution_count": 1003,
   "metadata": {},
   "outputs": [],
   "source": [
    "def add_room_above_grade_attributes(dataframe: pd.DataFrame) -> pd.DataFrame:\n",
    "    \n",
    "    dataframe['bath_room_per_bedroom'] = np.where(\n",
    "        (dataframe['FullBath'] + dataframe['HalfBath']) > 0,\n",
    "        dataframe['BedroomAbvGr'] / (dataframe['FullBath'] + dataframe['HalfBath']),\n",
    "        0\n",
    "    )     \n",
    "    \n",
    "    dataframe['bedroom_room_per_total_room'] = np.where(\n",
    "        dataframe['TotRmsAbvGrd'] > 0,\n",
    "        dataframe['BedroomAbvGr'] / dataframe['TotRmsAbvGrd'],\n",
    "        0\n",
    "    )\n",
    "\n",
    "    dataframe['room_per_gr_liv_area'] = (dataframe['GrLivArea']) / dataframe['TotRmsAbvGrd']\n",
    "\n",
    "    \n",
    "    dataframe['kitchen_per_total_room'] = dataframe[['KitchenAbvGr', 'TotRmsAbvGrd']].apply(lambda x: (x[0] * x[1]) if x[0] > 0 else 1, axis=1)\n",
    "\n",
    "    print('Adding features [\"bath_room_per_bedroom\", \"bedroom_room_per_total_room\", \"room_per_gr_liv_area\", \"kitchen_per_total_room\"]')\n",
    "    \n",
    "    return dataframe"
   ]
  },
  {
   "cell_type": "markdown",
   "metadata": {},
   "source": [
    "#### Quality"
   ]
  },
  {
   "cell_type": "markdown",
   "metadata": {},
   "source": [
    "#### legado"
   ]
  },
  {
   "cell_type": "code",
   "execution_count": 1004,
   "metadata": {},
   "outputs": [],
   "source": [
    "def add_garage_size_per_car(dataframe: pd.DataFrame) -> pd.DataFrame:\n",
    "    dataframe['GarageSizePerCar'] = dataframe['GarageCars'] / dataframe['GarageArea']\n",
    "    mean_value = dataframe['GarageSizePerCar'].mean()\n",
    "    dataframe['GarageSizePerCar'].fillna(mean_value, inplace=True)    \n",
    "    print('Adding feature GarageSizePerCar')\n",
    "    return dataframe"
   ]
  },
  {
   "cell_type": "code",
   "execution_count": 1005,
   "metadata": {},
   "outputs": [],
   "source": [
    "def add_garage_age(dataframe: pd.DataFrame) -> pd.DataFrame:\n",
    "    dataframe['GarageAge'] = dataframe['YrSold'] - dataframe['GarageYrBlt']\n",
    "\n",
    "    dataframe['GarageAge'] = MinMaxScaler(feature_range=(1, 9)).fit_transform(dataframe[['GarageAge']])\n",
    "    dataframe['GarageAge'] = 10 - dataframe['GarageAge']\n",
    "\n",
    "    print('Adding feature GarageAge')\n",
    "    return dataframe"
   ]
  },
  {
   "cell_type": "code",
   "execution_count": 1006,
   "metadata": {},
   "outputs": [],
   "source": [
    "def add_quarter(dataframe: pd.DataFrame) -> pd.DataFrame:\n",
    "    dataframe['QuarterSold'] = dataframe['MoSold'].apply(lambda x: (x+2)//3)\n",
    "    print('Adding feature QuarterSold')\n",
    "    return dataframe"
   ]
  },
  {
   "cell_type": "code",
   "execution_count": 1007,
   "metadata": {},
   "outputs": [],
   "source": [
    "def add_total_porch_area_per_grlivarea(dataframe: pd.DataFrame) -> pd.DataFrame:\n",
    "    dataframe['TotalPorchAreaPerGrLivArea'] = dataframe['TotalPorchArea'] / dataframe['GrLivArea']\n",
    "    print('Adding feature TotalPorchAreaPerGrLivArea')\n",
    "    return dataframe"
   ]
  },
  {
   "cell_type": "code",
   "execution_count": 1008,
   "metadata": {},
   "outputs": [],
   "source": [
    "def add_total_porch_area(dataframe: pd.DataFrame) -> pd.DataFrame:\n",
    "    scaler = MinMaxScaler()\n",
    "    dataframe['TotalPorchArea'] = (dataframe['WoodDeckSF'] + dataframe['OpenPorchSF'] + dataframe['EnclosedPorch'] + dataframe['3SsnPorch'] + dataframe['ScreenPorch']) \n",
    "    print('Adding feature TotalPorchArea')\n",
    "    return dataframe"
   ]
  },
  {
   "cell_type": "code",
   "execution_count": 1009,
   "metadata": {},
   "outputs": [],
   "source": [
    "def normalized_qualities(dataframe: pd.DataFrame) -> pd.DataFrame:\n",
    "    quality_mapping = {'Ex': 10, 'Gd': 8, 'TA': 5, 'Fa': 3, 'Po': 1, 'NA': 0} \n",
    "    dataframe[['BsmtQual', 'ExterQual']] = dataframe[['BsmtQual', 'ExterQual']].replace(quality_mapping)    \n",
    "    print('Normalizing score columns [\"BsmtQual\", \"KitchenQual\", \"ExterQual\"]')\n",
    "    return dataframe"
   ]
  },
  {
   "cell_type": "code",
   "execution_count": 1010,
   "metadata": {},
   "outputs": [],
   "source": [
    "def add_total_area(dataframe: pd.DataFrame) -> pd.DataFrame:    \n",
    "    dataframe['TotalArea'] = dataframe['GrLivArea'] + dataframe['TotalBsmtSF'] + dataframe['1stFlrSF'] + dataframe['2ndFlrSF']\n",
    "    print(\"Adding feature TotalArea\")\n",
    "    return dataframe"
   ]
  },
  {
   "cell_type": "code",
   "execution_count": 1011,
   "metadata": {},
   "outputs": [],
   "source": [
    "def add_mean_quality(dataframe: pd.DataFrame) -> pd.DataFrame:\n",
    "    dataframe['Quality'] = dataframe[['OverallQual', 'OverallCond', 'ExterQual', 'BsmtQual', 'KitchenQual']].apply(lambda x: (x[0] + x[1] + x[2] + x[3] + int(x[4])) / 5, axis=1)\n",
    "    print('Adding feature Quality')\n",
    "    return dataframe"
   ]
  },
  {
   "cell_type": "code",
   "execution_count": 1012,
   "metadata": {},
   "outputs": [],
   "source": [
    "def add_index_quality_area(dataframe=pd.DataFrame) -> pd.DataFrame:\n",
    "    dataframe['IndexQualityArea'] = dataframe['TotalArea']/dataframe['Quality']\n",
    "    return dataframe"
   ]
  },
  {
   "cell_type": "code",
   "execution_count": 1013,
   "metadata": {},
   "outputs": [],
   "source": [
    "def calculate_kitchen_qual_plus_kitchen_abvgr(dataframe: pd.DataFrame, drop_cols: bool = True) -> pd.DataFrame:\n",
    "    \n",
    "    text = \"and remove *** KitchenAbvGr ***\"\n",
    "    \n",
    "    dataframe['index_kqual'] = (dataframe['KitchenQual'] * dataframe['KitchenAbvGr'])\n",
    "    \n",
    "    if drop_cols:\n",
    "        dataframe.drop(columns=['KitchenAbvGr'], inplace=True)\n",
    "\n",
    "    print(f\"Adding *** kichek_index *** {text if drop_cols else ''}\")\n",
    "\n",
    "    return dataframe"
   ]
  },
  {
   "cell_type": "code",
   "execution_count": 1014,
   "metadata": {},
   "outputs": [],
   "source": [
    "def calculate_bsm_index(row):\n",
    "    non_zero_values = row[row != 0]  # Filtra valores diferentes de 0\n",
    "    if len(non_zero_values) == 0:\n",
    "        return 0  # Caso todas as colunas sejam 0, retorna 0\n",
    "    return non_zero_values.sum() / len(non_zero_values)  # Calcula a média apenas com os valores diferentes "
   ]
  },
  {
   "cell_type": "code",
   "execution_count": 1015,
   "metadata": {},
   "outputs": [],
   "source": [
    "def create_bsm_index(dataframe: pd.DataFrame, drop_cols: bool = True) -> pd.DataFrame:\n",
    "    \n",
    "    text = \"and remove *** BsmtCond, BsmtExposure, BsmtQual] ***\"\n",
    "    \n",
    "    dataframe['index_bsmt_qual'] = dataframe[['BsmtCond', 'BsmtExposure', 'ExterQual', 'BsmtQual']].apply(calculate_bsm_index, axis=1)\n",
    "    \n",
    "    if drop_cols:\n",
    "        dataframe.drop(columns=['BsmtCond', 'BsmtExposure', 'BsmtQual'], inplace=True)\n",
    "\n",
    "    print(f\"Adding *** index_bsmt_qual *** {text if drop_cols else ''}\")\n",
    "\n",
    "    return dataframe"
   ]
  },
  {
   "cell_type": "markdown",
   "metadata": {},
   "source": [
    "#### Chamada"
   ]
  },
  {
   "cell_type": "code",
   "execution_count": 1016,
   "metadata": {},
   "outputs": [],
   "source": [
    "def perform_feature_engineering(dataframe: pd.DataFrame) -> pd.DataFrame:\n",
    "    print(\"\\n ********************** Starting feature engeneering ********************** \\n\")\n",
    "  \n",
    "    dataframe = add_ages(dataframe=dataframe)\n",
    "    dataframe = add_flors_attributes(dataframe=dataframe)\n",
    "    dataframe = add_room_above_grade_attributes(dataframe=dataframe)\n",
    "    dataframe = add_quality_attributes(dataframe=dataframe)\n",
    "    # dataframe = add_misc_feature(dataframe=dataframe)\n",
    "    # dataframe = add_house_per_lot_area(dataframe=dataframe)\n",
    "\n",
    "    # dataframe = add_quarter(dataframe=dataframe)\n",
    "    # dataframe = add_garage_size_per_car(dataframe=dataframe)\n",
    "    # dataframe = add_garage_age(dataframe=dataframe)\n",
    "    # dataframe = add_total_porch_area(dataframe=dataframe)\n",
    "    # dataframe = add_total_porch_area_per_grlivarea(dataframe=dataframe)\n",
    "    # dataframe = add_total_area(dataframe=dataframe)\n",
    "    # dataframe = add_mean_quality(dataframe=dataframe)\n",
    "    # dataframe = add_index_quality_area(dataframe=dataframe)\n",
    "\n",
    "\n",
    "    # dataframe = create_bsm_index(dataframe=dataframe)\n",
    "    # dataframe = calculate_kitchen_qual_plus_kitchen_abvgr(dataframe=dataframe)\n",
    "    \n",
    "    # dataframe = dataframe.drop(columns=['YearRemodAdd', 'YearBuilt', 'YrSold', 'BedroomAbvGr', 'TotRmsAbvGrd', 'GarageCars','GarageArea', 'GarageCars', 'GarageArea', 'GarageYrBlt', 'MoSold', 'TotalPorchArea', 'GrLivArea', 'WoodDeckSF', 'OpenPorchSF', 'EnclosedPorch', '3SsnPorch', 'ScreenPorch', 'TotalBsmtSF', '1stFlrSF', '2ndFlrSF', 'OverallQual', 'OverallCond', 'ExterQual', 'BsmtQual', 'KitchenQual'])\n",
    "\n",
    "    print(\"\\n ********************** Finish feature engeneering ********************** \\n\")\n",
    "\n",
    "    return dataframe"
   ]
  },
  {
   "cell_type": "markdown",
   "metadata": {},
   "source": [
    "### One-Hot Encoding, Label Encoding e Scaler"
   ]
  },
  {
   "cell_type": "markdown",
   "metadata": {},
   "source": [
    "#### REFACTORING"
   ]
  },
  {
   "cell_type": "code",
   "execution_count": 1017,
   "metadata": {},
   "outputs": [],
   "source": [
    "columns_to_hot_encoding = ['MSZoning', 'Foundation', 'RoofStyle', 'Heating', 'SaleType', 'SaleCondition', 'Neighborhood', 'RoofMatl']\n",
    "\n",
    "def perform_one_hot_encode(dataframe: pd.DataFrame, categorical_features: list = columns_to_hot_encoding) -> pd.DataFrame:\n",
    "    \n",
    "    for feature in categorical_features:\n",
    "        dataframe[feature] = dataframe[feature].astype('category')\n",
    "        \n",
    "    df_encoded = pd.get_dummies(data=dataframe, columns=categorical_features, drop_first=True)\n",
    "    \n",
    "    for col in df_encoded.select_dtypes(include=['bool']).columns:\n",
    "        df_encoded[col] = df_encoded[col].astype(int)\n",
    "        \n",
    "    (f\"One Hot Encoding was processed for {categorical_features}\")\n",
    "    return df_encoded"
   ]
  },
  {
   "cell_type": "code",
   "execution_count": 1018,
   "metadata": {},
   "outputs": [],
   "source": [
    "def perform_mapping_and_encoding_attributes(dataframe: pd.DataFrame) -> pd.DataFrame:\n",
    "\n",
    "    cols_to_normalize = ['BsmtQual', 'BsmtCond', 'BsmtExposure', 'BsmtFinType1', 'BsmtFinType2', 'PavedDrive', 'LandContour', 'HeatingQC', 'GarageCond', 'KitchenQual', 'FireplaceQu', 'GarageQual', 'ExterQual', 'ExterCond', 'PoolQC']\n",
    "\n",
    "    dataframe['BsmtQual'] = dataframe['BsmtQual'].map({'Ex': 5, 'Gd': 4, 'TA': 3, 'Fa': 2, 'Po': 1, 'NA': 0})\n",
    "    dataframe['BsmtCond'] = dataframe['BsmtCond'].map({'Ex': 5, 'Gd': 4, 'TA': 3, 'Fa': 2, 'Po': 1, 'NA': 0})\n",
    "    dataframe['BsmtExposure'] = dataframe['BsmtExposure'].map({'Gd': 4, 'Av': 3, 'Mn': 2, 'No': 1, 'NA': 0})  \n",
    "    dataframe['BsmtFinType1'] = dataframe['BsmtFinType2'].map({'GLQ': 6, 'ALQ':  5, 'BLQ': 4, 'Rec': 3, 'LwQ': 2, 'Unf': 1, 'NA': 0})  \n",
    "    dataframe['BsmtFinType2'] = dataframe['BsmtFinType2'].map({'GLQ': 6, 'ALQ':  5, 'BLQ': 4, 'Rec': 3, 'LwQ': 2, 'Unf': 1, 'NA': 0})\n",
    "\n",
    "    dataframe['Street'] = dataframe['Street'].map({'Grvl': 1, 'Pave': 2})\n",
    "    dataframe['PavedDrive'] = dataframe['PavedDrive'].map({'Y': 3, 'P': 2, 'N': 1})\n",
    "    dataframe['CentralAir'] = dataframe['CentralAir'].map({'Y': 2, 'N': 1})\n",
    "    dataframe['LandSlope'] = dataframe['LandSlope'].map({'Gtl': 3, 'Mod': 2, 'Sev': 1})\n",
    "    dataframe['LotShape'] = dataframe['LotShape'].map({'Reg': 4, 'IR1': 3, 'IR2': 2, 'IR3': 1})    \n",
    "    dataframe['LandContour'] = dataframe['LandContour'].map({'Lvl': 4, 'Bnk': 3, 'HLS': 2, 'Low': 1})    \n",
    "    dataframe['Utilities'] = dataframe['Utilities'].map({'AllPub': 4, 'NoSewr': 3, 'NoSeWa': 2, 'ELO': 1})    \n",
    "\n",
    "    dataframe['HeatingQC'] = dataframe['HeatingQC'].map({'Ex': 5, 'Gd': 4, 'TA': 3, 'Fa': 2, 'Po': 1})\n",
    "    dataframe['GarageCond'] = dataframe['GarageCond'].map({'Ex': 5, 'Gd': 4, 'TA': 3, 'Fa': 2, 'Po': 1, 'NA': 0})\n",
    "    dataframe['KitchenQual'] = dataframe['KitchenQual'].map({'Ex': 5, 'Gd': 4, 'TA': 3, 'Fa': 2, 'Po': 1, 'NA': 0})\n",
    "    dataframe['FireplaceQu'] = dataframe['FireplaceQu'].map({'Ex': 5, 'Gd': 4, 'TA': 3, 'Fa': 2, 'Po': 1, 'NA': 0})\n",
    "    dataframe['GarageQual'] = dataframe['GarageQual'].map({'Ex': 5, 'Gd': 4, 'TA': 3, 'Fa': 2, 'Po': 1, 'NA': 0})\n",
    "    dataframe['ExterQual'] = dataframe['ExterQual'].map({'Ex': 5, 'Gd': 4, 'TA': 3, 'Fa': 2, 'Po': 1, 'NA': 0})\n",
    "    dataframe['ExterCond'] = dataframe['ExterCond'].map({'Ex': 5, 'Gd': 4, 'TA': 3, 'Fa': 2, 'Po': 1, 'NA': 0})\n",
    "    dataframe['GarageFinish'] = dataframe['GarageFinish'].map({'Fin': 3, 'RFn': 2, 'Unf': 1, 'NA': 0})\n",
    "    dataframe['PoolQC'] = dataframe['PoolQC'].map({'Ex': 4, 'Gd': 3, 'TA': 2, 'Fa': 1, 'NA': 0})\n",
    "    dataframe['Electrical'] = dataframe['Electrical'].map({'SBrkr': 5, 'FuseA': 4, 'Mix': 3, 'FuseF': 2, 'FuseP': 1})\n",
    "    dataframe['Functional'] = dataframe['Functional'].map({'Typ': 8, 'Min1': 7, 'Min2': 6, 'Mod': 5, 'Maj1': 4, 'Maj2': 3, 'Sev': 2, 'Sal': 1})\n",
    "    dataframe['Alley'] = dataframe['Alley'].map({'Grvl': 2, 'Pave': 1, 'NA': 0})\n",
    "    dataframe['LotConfig'] = dataframe['LotConfig'].map({'CulDSac': 5, 'FR3': 4, 'Corner': 3, 'FR2': 2, 'Inside': 1})\n",
    "\n",
    "    # dataframe = perform_one_hot_encode(dataframe=dataframe)\n",
    "\n",
    "    dataframe = fill_residual_fields(dataframe=dataframe)\n",
    "\n",
    "    # dataframe[cols_to_normalize] = MinMaxScaler(feature_range=(1, 10)).fit_transform(dataframe[cols_to_normalize])\n",
    "\n",
    "    return dataframe"
   ]
  },
  {
   "cell_type": "code",
   "execution_count": null,
   "metadata": {},
   "outputs": [],
   "source": []
  },
  {
   "cell_type": "markdown",
   "metadata": {},
   "source": [
    "### Feature Selection"
   ]
  },
  {
   "cell_type": "markdown",
   "metadata": {},
   "source": [
    "## TREINANDO E AVALIANDO MODELOS"
   ]
  },
  {
   "cell_type": "markdown",
   "metadata": {},
   "source": [
    "#### Funções"
   ]
  },
  {
   "cell_type": "code",
   "execution_count": 1019,
   "metadata": {},
   "outputs": [],
   "source": [
    "estimators = [\n",
    "    RandomForestRegressor(),\n",
    "    ExtraTreesRegressor(),\n",
    "    GradientBoostingRegressor(),\n",
    "    AdaBoostRegressor(),\n",
    "    LGBMRegressor(verbose=-1),\n",
    "    XGBRegressor(),\n",
    "    # Ridge(),\n",
    "    # Lasso()\n",
    "    # SGDRegressor()\n",
    "    # ElasticNet(),\n",
    "    # MLPRegressor()\n",
    "]"
   ]
  },
  {
   "cell_type": "code",
   "execution_count": 1020,
   "metadata": {},
   "outputs": [],
   "source": [
    "def display_stats(d: dict):\n",
    "    dataframe = pd.DataFrame.from_dict(d)\n",
    "    dataframe.sort_values(by=['score', 'std'], ascending=[True, True], inplace=True)\n",
    "    print(\"\\n################################  STATS ########################################\\n\")\n",
    "    print(dataframe)\n",
    "   "
   ]
  },
  {
   "cell_type": "code",
   "execution_count": 1021,
   "metadata": {},
   "outputs": [],
   "source": [
    "import pandas as pd\n",
    "from sklearn.model_selection import StratifiedShuffleSplit\n",
    "\n",
    "def obter_conj_treinamento_e_teste_estratificado_por(dataframe: pd.DataFrame, categoria: str, remove_outliers: bool = False):\n",
    "\n",
    "    df = dataframe.copy()\n",
    "\n",
    "    df['categoria_stratificada'] = pd.qcut(df[categoria], q=10, labels=False)\n",
    "    \n",
    "    strat_train_set = None\n",
    "    strat_valid_set = None\n",
    "\n",
    "    split = StratifiedShuffleSplit(n_splits=1, test_size=0.2, random_state=42)\n",
    "    for train_index, valid_index in split.split(df, df['categoria_stratificada']):\n",
    "        strat_train_set = df.loc[train_index]\n",
    "        strat_valid_set = df.loc[valid_index]\n",
    "\n",
    "    if remove_outliers:\n",
    "        strat_train_set = perform_remove_outliers(dataframe=strat_train_set)\n",
    "\n",
    "    X_train = strat_train_set.drop(columns=[categoria, 'categoria_stratificada'])\n",
    "    y_train = strat_train_set['SalePrice']\n",
    "    X_val = strat_valid_set.drop(columns=[categoria, 'categoria_stratificada'])\n",
    "    y_val = strat_valid_set['SalePrice']\n",
    "    \n",
    "    return X_train, X_val, y_train, y_val"
   ]
  },
  {
   "cell_type": "code",
   "execution_count": 1022,
   "metadata": {},
   "outputs": [],
   "source": [
    "def get_train_test_split(dataframe: pd.DataFrame):\n",
    "    X = dataframe\n",
    "    y = dataframe['SalePrice']\n",
    "    X_train, X_val, y_train, y_val = train_test_split(X, y, test_size=0.2, random_state=42)\n",
    "    return X_train, X_val, y_train, y_val"
   ]
  },
  {
   "cell_type": "code",
   "execution_count": 1023,
   "metadata": {},
   "outputs": [],
   "source": [
    "def process_dataframe(dataframe: pd.DataFrame, remove_outliers: bool = False) -> pd.DataFrame:\n",
    "    \n",
    "    dataframe = perform_fill_data(dataframe=dataframe)\n",
    "    dataframe = perform_mapping_and_encoding_attributes(dataframe=dataframe)\n",
    "    dataframe = perform_feature_engineering(dataframe=dataframe)\n",
    "\n",
    "    has_nulls = dataframe.columns[dataframe.isna().any()].tolist()\n",
    "    \n",
    "    if has_nulls:\n",
    "        print(f\"\\n\\n########## O DATAFRAME POSSUI AS SEGUINTES COLUNAS NULAS: ########## \\n{has_nulls} \\n\\n\")\n",
    "        print(dataframe[has_nulls].info())\n",
    "\n",
    "    if remove_outliers:\n",
    "        dataframe = perform_remove_outliers(dataframe=dataframe)\n",
    "\n",
    "\n",
    "    return dataframe"
   ]
  },
  {
   "cell_type": "code",
   "execution_count": 1024,
   "metadata": {},
   "outputs": [],
   "source": [
    "def log_rmse(y_true, y_pred):\n",
    "    return np.sqrt(mean_squared_error(np.log(y_true), np.log(y_pred)))"
   ]
  },
  {
   "cell_type": "code",
   "execution_count": 1025,
   "metadata": {},
   "outputs": [],
   "source": [
    "rmse_log_scorer = make_scorer(log_rmse, greater_is_better=False)\n",
    "# rmse_log_scorer = make_scorer(score_func=root_mean_squared_error, greater_is_better=False)"
   ]
  },
  {
   "cell_type": "code",
   "execution_count": 1026,
   "metadata": {},
   "outputs": [
    {
     "name": "stdout",
     "output_type": "stream",
     "text": [
      "\n",
      " ********************** Starting FILL fields **********************\n",
      "\n",
      "the columns ['Exterior1st', 'Fence'] was removed.\n",
      "Fill LotFrontage: *** 0 *** values for replacement\n",
      "Fill GarageType: *** 0 *** values for replacement\n",
      "Fill GarageYrBlt: *** 0 *** values for replacement\n",
      "Fill GarageFinish: *** 0 *** values for replacement\n",
      "Fill GarageQual: *** 0 *** values for replacement\n",
      "Fill GarageCond: *** 0 *** values for replacement\n",
      "Fill BsmtQual: *** 0 *** values for replacement\n",
      "Fill BsmtCond: *** 0 *** values for replacement\n",
      "Fill BsmtExposure: *** 1 *** values for replacement\n",
      "Fill BsmtFinType1: *** 0 *** values for replacement\n",
      "Fill BsmtFinType2: *** 1 *** values for replacement\n",
      "Fill MasVnrType: *** 0 *** values for replacement\n",
      "Fill basement attributes: FireplaceQu\n",
      "Fill FireplaceQu: *** 0 *** values for replacement\n",
      "Fill PoolQC: *** 0 *** values for replacement\n",
      "Fill Alley: *** 0 *** values for replacement\n",
      "fill_columns_with_median_or_mode ....\n",
      "Fill BsmtExposure: *** 0 *** values for replacement\n",
      "Fill BsmtFinType2: *** 0 *** values for replacement\n",
      "Fill Electrical: *** 0 *** values for replacement\n",
      "\n",
      " ********************** Finish FILL fields **********************\n",
      "\n",
      "Fill residual null fields: ['Alley']\n",
      "\n",
      " ********************** Starting feature engeneering ********************** \n",
      "\n",
      "Adding feature remode_age\n",
      "Adding feature house_age\n",
      "Adding age_or_remode\n",
      "Adding features [\"has_1st_floor\", \"has_2nd_floor\", \"has_bsmt\", \"total_floor\", \"finished_per_unfinished_bsmt\"]\n",
      "Adding features [\"bath_room_per_bedroom\", \"bedroom_room_per_total_room\", \"room_per_gr_liv_area\", \"kitchen_per_total_room\"]\n",
      "Adding features [\"index_external_qual\", \"index_internal_qual\", \"index_bsmt_qual\", \"index_garage_qual\", \"index_gr_liv_area\"]\n",
      "\n",
      " ********************** Finish feature engeneering ********************** \n",
      "\n",
      "\n",
      "\n",
      "########## O DATAFRAME POSSUI AS SEGUINTES COLUNAS NULAS: ########## \n",
      "['MiscFeature'] \n",
      "\n",
      "\n",
      "<class 'pandas.core.frame.DataFrame'>\n",
      "RangeIndex: 1460 entries, 0 to 1459\n",
      "Data columns (total 1 columns):\n",
      " #   Column       Non-Null Count  Dtype \n",
      "---  ------       --------------  ----- \n",
      " 0   MiscFeature  54 non-null     object\n",
      "dtypes: object(1)\n",
      "memory usage: 11.5+ KB\n",
      "None\n",
      "Outliers was removed!\n"
     ]
    },
    {
     "data": {
      "image/png": "[encoded data removed]",
      "text/plain": [
       "<Figure size 1200x800 with 1 Axes>"
      ]
     },
     "metadata": {},
     "output_type": "display_data"
    }
   ],
   "source": [
    "import numpy as np\n",
    "import matplotlib.pyplot as plt\n",
    "import pandas as pd\n",
    "from sklearn.ensemble import GradientBoostingRegressor\n",
    "\n",
    "# Supondo que você já tenha processado o DataFrame e dividido os dados\n",
    "processed_dataframe = process_dataframe(get_dataframe(path=PATH_TRAIN), remove_outliers=True)\n",
    "X_train, X_val, y_train, y_val = get_train_test_split(processed_dataframe)\n",
    "\n",
    "# Seleciona as colunas numéricas, excluindo 'SalePrice' e 'Id'\n",
    "numeric_cols = processed_dataframe.select_dtypes(include=['number']).columns.tolist()\n",
    "numeric_cols.remove('SalePrice')\n",
    "numeric_cols.remove('Id')\n",
    "\n",
    "# Treina o modelo\n",
    "clf = GradientBoostingRegressor().fit(X_train[numeric_cols], y_train)\n",
    "\n",
    "# Importância das features\n",
    "importances = clf.feature_importances_\n",
    "indices = np.argsort(importances)[::-1]\n",
    "\n",
    "# Nome das features\n",
    "feature_names = X_train[numeric_cols].columns\n",
    "\n",
    "# Defina quantas features você quer visualizar (20 neste caso)\n",
    "num_features = 20\n",
    "\n",
    "# Plotar as features mais importantes\n",
    "plt.figure(figsize=(12, 8))\n",
    "plt.title(\"Feature Importances\")\n",
    "plt.bar(range(num_features), importances[indices][:num_features], color=\"r\", align=\"center\")\n",
    "plt.xticks(range(num_features), feature_names[indices][:num_features], rotation=90)\n",
    "plt.xlim([-1, num_features])\n",
    "plt.tight_layout()\n",
    "plt.show()"
   ]
  },
  {
   "cell_type": "code",
   "execution_count": 673,
   "metadata": {},
   "outputs": [],
   "source": [
    "def cross_val_estimators(X, y):\n",
    "    d = {'models': [], 'score': [], 'std': []}\n",
    "\n",
    "    for estimator in estimators:\n",
    "        scores = cross_val_score(estimator=estimator, X=X, y=y, cv=5, scoring=rmse_log_scorer)\n",
    "        d['models'].append(type(estimator).__name__)\n",
    "        d['score'].append(-scores.mean()) \n",
    "        d['std'].append(scores.std())\n",
    "\n",
    "    display_stats(d)"
   ]
  },
  {
   "cell_type": "code",
   "execution_count": 674,
   "metadata": {},
   "outputs": [],
   "source": [
    "def cross_val_in_train_test_split():\n",
    "    is_null = False\n",
    "    \n",
    "    processed_dataframe = process_dataframe(get_dataframe(path=PATH_TRAIN), remove_outliers=False)\n",
    "    X_train, X_val, y_train, y_val = get_train_test_split(processed_dataframe)\n",
    "    # X_train, X_val, y_train, y_val = obter_conj_treinamento_e_teste_estratificado_por(processed_dataframe, categoria='SalePrice')\n",
    "\n",
    "    numeric_cols = processed_dataframe.select_dtypes(include=['number']).columns.tolist()\n",
    "    numeric_cols.remove('SalePrice')\n",
    "    numeric_cols.remove('Id')\n",
    "\n",
    "    cols_with_null = processed_dataframe.columns[processed_dataframe.isna().any()].tolist()\n",
    "    \n",
    "    for numeric_col in numeric_cols:\n",
    "        if numeric_col in cols_with_null:\n",
    "            print(f\" ### {numeric_col} is NULL ###\")\n",
    "            is_null = True\n",
    "    \n",
    "    if not is_null:\n",
    "        cross_val_estimators(X=X_train[feature_names], y=y_train)\n",
    "    else:\n",
    "        print(\"Existem valores nulos nas colunas numéricas. Não é possível executar a validação cruzada.\")"
   ]
  },
  {
   "cell_type": "code",
   "execution_count": 675,
   "metadata": {},
   "outputs": [],
   "source": [
    "def validate_model(model, remove_outliers: bool = False):\n",
    "    is_null = False\n",
    "    \n",
    "    processed_dataframe = process_dataframe(get_dataframe(path=PATH_TRAIN), remove_outliers=remove_outliers)\n",
    "    X_train, X_val, y_train, y_val = get_train_test_split(processed_dataframe)\n",
    "\n",
    "    numeric_cols = processed_dataframe.select_dtypes(include=['number']).columns.tolist()\n",
    "    numeric_cols.remove('SalePrice')\n",
    "    numeric_cols.remove('Id')\n",
    "\n",
    "    cols_with_null = processed_dataframe.columns[processed_dataframe.isna().any()].tolist()\n",
    "    for numeric_col in numeric_cols:\n",
    "        if numeric_col in cols_with_null:\n",
    "            print(f\" ### {numeric_col} is NULL ###\")\n",
    "            is_null = True\n",
    "    \n",
    "    if not is_null:\n",
    "        model.fit(X=X_train[numeric_cols], y=y_train)\n",
    "        pred = model.predict(X=X_val[numeric_cols])\n",
    "        \n",
    "        # Calcule o logaritmo das previsões e dos valores observados\n",
    "        log_pred = np.log(pred)\n",
    "        log_y_val = np.log(y_val)\n",
    "        \n",
    "        # Calcule o RMSE entre os valores logaritmizados\n",
    "        rmse = np.sqrt(mean_squared_error(log_y_val, log_pred))\n",
    "        print(f\"RMSE (logarithm of predictions and actual values): {rmse}\")"
   ]
  },
  {
   "cell_type": "markdown",
   "metadata": {},
   "source": [
    "#### chamada"
   ]
  },
  {
   "cell_type": "code",
   "execution_count": 957,
   "metadata": {},
   "outputs": [
    {
     "name": "stdout",
     "output_type": "stream",
     "text": [
      "\n",
      " ********************** Starting FILL fields **********************\n",
      "\n",
      "the columns ['Exterior1st', 'Fence'] was removed.\n",
      "Fill LotFrontage: *** 0 *** values for replacement\n",
      "Fill GarageType: *** 0 *** values for replacement\n",
      "Fill GarageYrBlt: *** 0 *** values for replacement\n",
      "Fill GarageFinish: *** 0 *** values for replacement\n",
      "Fill GarageQual: *** 0 *** values for replacement\n",
      "Fill GarageCond: *** 0 *** values for replacement\n",
      "Fill BsmtQual: *** 0 *** values for replacement\n",
      "Fill BsmtCond: *** 0 *** values for replacement\n",
      "Fill BsmtExposure: *** 1 *** values for replacement\n",
      "Fill BsmtFinType1: *** 0 *** values for replacement\n",
      "Fill BsmtFinType2: *** 1 *** values for replacement\n",
      "Fill MasVnrType: *** 0 *** values for replacement\n",
      "Fill basement attributes: FireplaceQu\n",
      "Fill FireplaceQu: *** 0 *** values for replacement\n",
      "Fill PoolQC: *** 0 *** values for replacement\n",
      "Fill Alley: *** 0 *** values for replacement\n",
      "fill_columns_with_median_or_mode ....\n",
      "Fill BsmtExposure: *** 0 *** values for replacement\n",
      "Fill BsmtFinType2: *** 0 *** values for replacement\n",
      "Fill Electrical: *** 0 *** values for replacement\n",
      "\n",
      " ********************** Finish FILL fields **********************\n",
      "\n",
      "Fill residual null fields: ['Alley']\n",
      "\n",
      " ********************** Starting feature engeneering ********************** \n",
      "\n",
      "Adding feature remode_age\n",
      "Adding feature house_age\n",
      "Adding age_or_remode\n",
      "Adding features [\"has_1st_floor\", \"has_2nd_floor\", \"has_bsmt\", \"total_floor\", \"finished_per_unfinished_bsmt\"]\n",
      "Adding features [\"bath_room_per_bedroom\", \"bedroom_room_per_total_room\", \"room_per_gr_liv_area\", \"kitchen_per_total_room\"]\n",
      "Adding features [\"index_external_qual\", \"index_internal_qual\", \"index_bsmt_qual\", \"index_garage_qual\", \"index_gr_liv_area\"]\n",
      "Adding features [\"has_elevator\", \"has_gar2\", \"has_shed\", \"has_tenc\"]\n",
      "\n",
      " ********************** Finish feature engeneering ********************** \n",
      "\n",
      "\n",
      "\n",
      "########## O DATAFRAME POSSUI AS SEGUINTES COLUNAS NULAS: ########## \n",
      "['MiscFeature'] \n",
      "\n",
      "\n",
      "<class 'pandas.core.frame.DataFrame'>\n",
      "RangeIndex: 1460 entries, 0 to 1459\n",
      "Data columns (total 1 columns):\n",
      " #   Column       Non-Null Count  Dtype \n",
      "---  ------       --------------  ----- \n",
      " 0   MiscFeature  54 non-null     object\n",
      "dtypes: object(1)\n",
      "memory usage: 11.5+ KB\n",
      "None\n",
      "\n",
      "################################  STATS ########################################\n",
      "\n",
      "                      models  score    std\n",
      "2  GradientBoostingRegressor 0.1370 0.0191\n",
      "4              LGBMRegressor 0.1385 0.0183\n",
      "0      RandomForestRegressor 0.1448 0.0201\n",
      "1        ExtraTreesRegressor 0.1451 0.0207\n",
      "5               XGBRegressor 0.1456 0.0146\n",
      "3          AdaBoostRegressor 0.1965 0.0237\n"
     ]
    }
   ],
   "source": [
    "cross_val_in_train_test_split()"
   ]
  },
  {
   "cell_type": "markdown",
   "metadata": {},
   "source": [
    "                      models  score    std\n",
    "2  GradientBoostingRegressor 0.1330 0.0139\n",
    "4              LGBMRegressor 0.1386 0.0174\n",
    "1        ExtraTreesRegressor 0.1400 0.0180\n",
    "0      RandomForestRegressor 0.1435 0.0204\n",
    "...\n",
    "3          AdaBoostRegressor 0.1876 0.0239\n",
    "\n",
    "\n",
    "Quantidade de Características: 42"
   ]
  },
  {
   "cell_type": "markdown",
   "metadata": {},
   "source": [
    "#### Validação"
   ]
  },
  {
   "cell_type": "code",
   "execution_count": null,
   "metadata": {},
   "outputs": [],
   "source": [
    "model = GradientBoostingRegressor()\n",
    "validate_model(model)"
   ]
  },
  {
   "cell_type": "markdown",
   "metadata": {},
   "source": [
    "RMSE (logarithm of predictions and actual values): 0.13848853102315625"
   ]
  },
  {
   "cell_type": "markdown",
   "metadata": {},
   "source": [
    "## SUBIMIT"
   ]
  },
  {
   "cell_type": "code",
   "execution_count": null,
   "metadata": {},
   "outputs": [],
   "source": [
    "train_processed = process_dataframe(get_dataframe(path=PATH_TRAIN), remove_outliers=False)\n",
    "\n",
    "y_train = train_processed['SalePrice']\n",
    "X_train = train_processed[selected_features]\n",
    "\n",
    "estimator = GradientBoostingRegressor()\n",
    "estimator.fit(X=X_train, y=y_train)"
   ]
  },
  {
   "cell_type": "code",
   "execution_count": null,
   "metadata": {},
   "outputs": [],
   "source": [
    "test_to_predict = process_dataframe(get_dataframe(path=PATH_TEST), remove_outliers=False)\n",
    "pred = estimator.predict(test_to_predict[selected_features])\n",
    "d = {'Id': test_to_predict['Id'], 'SalePrice': pred}\n",
    "submit = pd.DataFrame.from_dict(d)\n",
    "submit.to_csv('prediction.csv', index=False)"
   ]
  }
 ],
 "metadata": {
  "kernelspec": {
   "display_name": ".venv",
   "language": "python",
   "name": "python3"
  },
  "language_info": {
   "codemirror_mode": {
    "name": "ipython",
    "version": 3
   },
   "file_extension": ".py",
   "mimetype": "text/x-python",
   "name": "python",
   "nbconvert_exporter": "python",
   "pygments_lexer": "ipython3",
   "version": "3.12.3"
  }
 },
 "nbformat": 4,
 "nbformat_minor": 2
}
